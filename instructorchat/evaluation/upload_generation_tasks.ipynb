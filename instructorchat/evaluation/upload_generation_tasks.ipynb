{
   "cells": [
      {
         "cell_type": "code",
         "execution_count": 1,
         "id": "9fc1de18",
         "metadata": {},
         "outputs": [],
         "source": [
            "from openai import OpenAI"
         ]
      },
      {
         "cell_type": "code",
         "execution_count": 2,
         "id": "a492baf4",
         "metadata": {},
         "outputs": [],
         "source": [
            "client = OpenAI()"
         ]
      },
      {
         "cell_type": "code",
         "execution_count": 3,
         "id": "5e7a095d",
         "metadata": {},
         "outputs": [],
         "source": [
            "batch_file = client.files.create(\n",
            "  file=open(\"../../eval_data/batch_tasks_question_generation.jsonl\", \"rb\"),\n",
            "  purpose=\"batch\"\n",
            ")"
         ]
      },
      {
         "cell_type": "code",
         "execution_count": 16,
         "id": "07c5a2c8",
         "metadata": {},
         "outputs": [
            {
               "name": "stdout",
               "output_type": "stream",
               "text": [
                  "FileObject(id='file-DqEhjEnFkoJruLAhTphdp2', bytes=92980819, created_at=1750638917, filename='batch_tasks_question_generation.jsonl', object='file', purpose='batch', status='processed', expires_at=None, status_details=None)\n"
               ]
            }
         ],
         "source": [
            "print(batch_file)"
         ]
      },
      {
         "cell_type": "code",
         "execution_count": 5,
         "id": "bbd9ef35",
         "metadata": {},
         "outputs": [],
         "source": [
            "batch_job = client.batches.create(\n",
            "  input_file_id=batch_file.id,\n",
            "  endpoint=\"/v1/chat/completions\",\n",
            "  completion_window=\"24h\"\n",
            ")"
         ]
      },
      {
         "cell_type": "code",
         "execution_count": 17,
         "id": "313a35b9",
         "metadata": {},
         "outputs": [
            {
               "name": "stdout",
               "output_type": "stream",
               "text": [
                  "Batch(id='batch_6858a16e8e3c8190bdbfd3d1abb48d63', completion_window='24h', created_at=1750638958, endpoint='/v1/chat/completions', input_file_id='file-DqEhjEnFkoJruLAhTphdp2', object='batch', status='completed', cancelled_at=None, cancelling_at=None, completed_at=1750639474, error_file_id=None, errors=None, expired_at=None, expires_at=1750725358, failed_at=None, finalizing_at=1750639419, in_progress_at=1750638962, metadata=None, output_file_id='file-Ftjjzx6PGAWWzuXeC2un13', request_counts=BatchRequestCounts(completed=115, failed=0, total=115))\n"
               ]
            }
         ],
         "source": [
            "batch_job = client.batches.retrieve(batch_job.id)\n",
            "print(batch_job)"
         ]
      },
      {
         "cell_type": "code",
         "execution_count": 18,
         "id": "927f3e63",
         "metadata": {},
         "outputs": [],
         "source": [
            "result_file_id = batch_job.output_file_id\n",
            "result = client.files.content(result_file_id).content"
         ]
      },
      {
         "cell_type": "code",
         "execution_count": 19,
         "id": "8a372845",
         "metadata": {},
         "outputs": [],
         "source": [
            "result_file_name = \"../../eval_data/batch_job_results_image_eval.jsonl\"\n",
            "\n",
            "with open(result_file_name, 'wb') as file:\n",
            "    file.write(result)"
         ]
      },
      {
         "cell_type": "code",
         "execution_count": 20,
         "id": "604dd025",
         "metadata": {},
         "outputs": [],
         "source": [
            "import json"
         ]
      },
      {
         "cell_type": "code",
         "execution_count": 21,
         "id": "9689fc94",
         "metadata": {},
         "outputs": [],
         "source": [
            "# Loading data from saved file\n",
            "results = []\n",
            "with open(result_file_name, 'r') as file:\n",
            "    for line in file:\n",
            "        # Parsing the JSON string into a dict and appending to the list of results\n",
            "        json_object = json.loads(line.strip())\n",
            "        results.append(json_object)"
         ]
      },
      {
         "cell_type": "code",
         "execution_count": 26,
         "id": "adf54fae",
         "metadata": {},
         "outputs": [],
         "source": [
            "sources_file = \"../../eval_data/batch_tasks_question_generation_sources.json\"\n",
            "\n",
            "with open(sources_file, \"r\") as f:\n",
            "    sources = json.load(f)"
         ]
      },
      {
         "cell_type": "code",
         "execution_count": 28,
         "id": "e69565b4",
         "metadata": {},
         "outputs": [
            {
               "data": {
                  "text/plain": [
                     "{'id': 'batch_req_6858a33c7bd881909580f98d51ad2505',\n",
                     " 'custom_id': 'task-0',\n",
                     " 'response': {'status_code': 200,\n",
                     "  'request_id': '06a89d4882fad41bd8bf039b97946cf0',\n",
                     "  'body': {'id': 'chatcmpl-BlPXN6mlC7DjeXRTyhREoC2QOchU7',\n",
                     "   'object': 'chat.completion',\n",
                     "   'created': 1750639281,\n",
                     "   'model': 'gpt-4o-mini-2024-07-18',\n",
                     "   'choices': [{'index': 0,\n",
                     "     'message': {'role': 'assistant',\n",
                     "      'content': '{\"questions\":[{\"input\":\"What is the course code for the Python for Data Science class?\",\"expected_output\":\"ECE 20875\"},{\"input\":\"Who are the authors of the Python for Data Science material?\",\"expected_output\":\"Qiang Qiu, Murat Kocaoglu, and Anuran Makur\"},{\"input\":\"What topic is covered in the ECE 20875 course?\",\"expected_output\":\"Probability and Random Variables\"}]}',\n",
                     "      'refusal': None,\n",
                     "      'annotations': []},\n",
                     "     'logprobs': None,\n",
                     "     'finish_reason': 'stop'}],\n",
                     "   'usage': {'prompt_tokens': 37075,\n",
                     "    'completion_tokens': 89,\n",
                     "    'total_tokens': 37164,\n",
                     "    'prompt_tokens_details': {'cached_tokens': 0, 'audio_tokens': 0},\n",
                     "    'completion_tokens_details': {'reasoning_tokens': 0,\n",
                     "     'audio_tokens': 0,\n",
                     "     'accepted_prediction_tokens': 0,\n",
                     "     'rejected_prediction_tokens': 0}},\n",
                     "   'service_tier': 'default',\n",
                     "   'system_fingerprint': 'fp_62a23a81ef'}},\n",
                     " 'error': None}"
                  ]
               },
               "execution_count": 28,
               "metadata": {},
               "output_type": "execute_result"
            }
         ],
         "source": [
            "results[0]"
         ]
      },
      {
         "cell_type": "code",
         "execution_count": 37,
         "id": "b509455b",
         "metadata": {},
         "outputs": [],
         "source": [
            "eval_dataset = []\n",
            "\n",
            "for result in results:\n",
            "    custom_id: str = result[\"custom_id\"]\n",
            "    idx = int(custom_id[custom_id.index(\"-\")+1:])\n",
            "    eval_dataset.extend([{**qa_data, **sources[idx]} for qa_data in json.loads(result[\"response\"][\"body\"][\"choices\"][0][\"message\"][\"content\"])[\"questions\"]])"
         ]
      },
      {
         "cell_type": "code",
         "execution_count": 39,
         "id": "69264ff2",
         "metadata": {},
         "outputs": [],
         "source": [
            "with open(\"../../eval_data/image_eval_data.json\", \"w\") as f:\n",
            "    json.dump(eval_dataset, f, indent=4)"
         ]
      },
      {
         "cell_type": "code",
         "execution_count": null,
         "id": "ed02935c",
         "metadata": {},
         "outputs": [],
         "source": []
      }
   ],
   "metadata": {
      "kernelspec": {
         "display_name": "base",
         "language": "python",
         "name": "python3"
      },
      "language_info": {
         "codemirror_mode": {
            "name": "ipython",
            "version": 3
         },
         "file_extension": ".py",
         "mimetype": "text/x-python",
         "name": "python",
         "nbconvert_exporter": "python",
         "pygments_lexer": "ipython3",
         "version": "3.12.4"
      }
   },
   "nbformat": 4,
   "nbformat_minor": 5
}
