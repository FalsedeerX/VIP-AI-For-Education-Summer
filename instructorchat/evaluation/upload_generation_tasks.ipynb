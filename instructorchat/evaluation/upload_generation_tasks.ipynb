{
   "cells": [
      {
         "cell_type": "code",
         "execution_count": 4,
         "id": "9fc1de18",
         "metadata": {},
         "outputs": [],
         "source": [
            "from openai import OpenAI"
         ]
      },
      {
         "cell_type": "code",
         "execution_count": 5,
         "id": "a492baf4",
         "metadata": {},
         "outputs": [],
         "source": [
            "client = OpenAI()"
         ]
      },
      {
         "cell_type": "code",
         "execution_count": 13,
         "id": "5e7a095d",
         "metadata": {},
         "outputs": [],
         "source": [
            "batch_file = client.files.create(\n",
            "  file=open(\"../../eval_data/batch_tasks_question_generation.jsonl\", \"rb\"),\n",
            "  purpose=\"batch\"\n",
            ")"
         ]
      },
      {
         "cell_type": "code",
         "execution_count": 14,
         "id": "07c5a2c8",
         "metadata": {},
         "outputs": [
            {
               "name": "stdout",
               "output_type": "stream",
               "text": [
                  "FileObject(id='file-8fvkqba6RDdJqKCsHY6y4x', bytes=92968399, created_at=1749949111, filename='batch_tasks_question_generation.jsonl', object='file', purpose='batch', status='processed', expires_at=None, status_details=None)\n"
               ]
            }
         ],
         "source": [
            "print(batch_file)"
         ]
      },
      {
         "cell_type": "code",
         "execution_count": 15,
         "id": "bbd9ef35",
         "metadata": {},
         "outputs": [],
         "source": [
            "batch_job = client.batches.create(\n",
            "  input_file_id=batch_file.id,\n",
            "  endpoint=\"/v1/chat/completions\",\n",
            "  completion_window=\"24h\"\n",
            ")"
         ]
      },
      {
         "cell_type": "code",
         "execution_count": 27,
         "id": "313a35b9",
         "metadata": {},
         "outputs": [
            {
               "name": "stdout",
               "output_type": "stream",
               "text": [
                  "Batch(id='batch_684e1af3725081908183e2775538c1d0', completion_window='24h', created_at=1749949171, endpoint='/v1/chat/completions', input_file_id='file-8fvkqba6RDdJqKCsHY6y4x', object='batch', status='cancelling', cancelled_at=None, cancelling_at=1749949280, completed_at=None, error_file_id=None, errors=None, expired_at=None, expires_at=1750035571, failed_at=None, finalizing_at=None, in_progress_at=1749949175, metadata=None, output_file_id=None, request_counts=BatchRequestCounts(completed=0, failed=108, total=115))\n"
               ]
            }
         ],
         "source": [
            "batch_job = client.batches.retrieve(batch_job.id)\n",
            "print(batch_job)"
         ]
      },
      {
         "cell_type": "code",
         "execution_count": null,
         "id": "927f3e63",
         "metadata": {},
         "outputs": [],
         "source": []
      }
   ],
   "metadata": {
      "kernelspec": {
         "display_name": "base",
         "language": "python",
         "name": "python3"
      },
      "language_info": {
         "codemirror_mode": {
            "name": "ipython",
            "version": 3
         },
         "file_extension": ".py",
         "mimetype": "text/x-python",
         "name": "python",
         "nbconvert_exporter": "python",
         "pygments_lexer": "ipython3",
         "version": "3.12.4"
      }
   },
   "nbformat": 4,
   "nbformat_minor": 5
}